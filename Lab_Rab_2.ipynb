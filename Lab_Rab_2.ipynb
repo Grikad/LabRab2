{
 "cells": [
  {
   "cell_type": "code",
   "execution_count": null,
   "metadata": {},
   "outputs": [],
   "source": [
    "###Лабораторная работа №2\n",
    "##Выполнила студентка группы 1бПМ2 Гришина Е.Д."
   ]
  },
  {
   "cell_type": "code",
   "execution_count": 1,
   "metadata": {},
   "outputs": [
    {
     "name": "stdout",
     "output_type": "stream",
     "text": [
      "A - проекция xy, B - проекция yz, C - проекция xz\n",
      "1  - A\n",
      "2  - B\n",
      "2  - C\n",
      "5  - общая площадь\n",
      "4  - A\n",
      "6  - B\n",
      "7  - C\n",
      "17  - общая площадь\n",
      "2  - A\n",
      "3  - B\n",
      "3  - C\n",
      "8  - общая площадь\n",
      "8  - A\n",
      "3  - B\n",
      "3  - C\n",
      "14  - общая площадь\n",
      "9  - A\n",
      "6  - B\n",
      "6  - C\n",
      "21  - общая площадь\n"
     ]
    }
   ],
   "source": [
    "def Projection_Areas(grid):\n",
    "\n",
    "    B= 0; A = 0;\n",
    "    for i in range(len(grid)):\n",
    "        t = 0;\n",
    "        for j in range(len(grid)):\n",
    "            if(grid[i][j] > t):\n",
    "                t = grid[i][j];\n",
    "            if(grid[i][j] > 0):\n",
    "               A += 1;\n",
    "#        print(t, \" t\") #проверка\n",
    "        B += t;\n",
    "    print(A, ' - A');\n",
    "    print(B, \" - B\");\n",
    "\n",
    "\n",
    "    C = 0;\n",
    "    for j in range(len(grid)):\n",
    "        t1 = 0;\n",
    "        for i in range(len(grid)):\n",
    "#            print(grid[i][j]) #проверка\n",
    "            if(grid[i][j] > t1):\n",
    "                t1 = grid[i][j];\n",
    "#        print(t1, \" t1\"); #проверка\n",
    "        C += t1;\n",
    "    print(C, \" - C\");\n",
    "    \n",
    "    return A+B+C\n",
    "\n",
    "print (\"A - проекция xy, B - проекция yz, C - проекция xz\")\n",
    "v = [ [[2]], [[1, 2], [3, 4]], [[1, 0], [0, 2]], [[1, 1, 1], [1, 0, 1], [1, 1, 1]], [[2,2,2],[2,1,2],[2,2,2]] ];\n",
    "for i in range(len(v)):\n",
    "    print(Projection_Areas(v[i]), \" - общая площадь\")"
   ]
  },
  {
   "cell_type": "code",
   "execution_count": null,
   "metadata": {},
   "outputs": [],
   "source": []
  }
 ],
 "metadata": {
  "kernelspec": {
   "display_name": "Python 3",
   "language": "python",
   "name": "python3"
  },
  "language_info": {
   "codemirror_mode": {
    "name": "ipython",
    "version": 3
   },
   "file_extension": ".py",
   "mimetype": "text/x-python",
   "name": "python",
   "nbconvert_exporter": "python",
   "pygments_lexer": "ipython3",
   "version": "3.8.5"
  }
 },
 "nbformat": 4,
 "nbformat_minor": 4
}
